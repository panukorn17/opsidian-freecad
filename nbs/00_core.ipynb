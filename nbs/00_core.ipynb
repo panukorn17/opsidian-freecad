{
 "cells": [
  {
   "cell_type": "markdown",
   "metadata": {},
   "source": [
    "# core\n",
    "\n",
    "> Fill in a module description here"
   ]
  },
  {
   "cell_type": "code",
   "execution_count": null,
   "metadata": {},
   "outputs": [],
   "source": [
    "#| default_exp core"
   ]
  },
  {
   "cell_type": "code",
   "execution_count": null,
   "metadata": {},
   "outputs": [],
   "source": [
    "#| hide\n",
    "from nbdev.showdoc import *"
   ]
  },
  {
   "cell_type": "code",
   "execution_count": null,
   "metadata": {},
   "outputs": [],
   "source": [
    "#| export\n",
    "import os\n",
    "import sys\n",
    "from dotenv import load_dotenv\n",
    "load_dotenv()\n",
    "freecad_path = os.environ.get(\"FREECAD_PATH\")\n",
    "if freecad_path not in sys.path:\n",
    "    sys.path.append(freecad_path)\n",
    "if \"..\" not in sys.path:\n",
    "    sys.path.append(\"..\")\n",
    "    \n",
    "import FreeCAD\n",
    "import Part\n",
    "from pathlib import Path\n",
    "import csv\n",
    "import math"
   ]
  },
  {
   "cell_type": "code",
   "execution_count": null,
   "metadata": {},
   "outputs": [],
   "source": [
    "#| export\n",
    "centres = [(0, 0, 0), #plane 1\n",
    "            (5.333, 0, -144.623), #plane 2\n",
    "            (36.791, 0, -289.331), #plane 3\n",
    "            (91.665, 0, -426.512), #plane 4\n",
    "            (167.629, 0, -554.016), #plane 5\n",
    "            (279.67, 0, -656.591), #plane 6\n",
    "            (407.779, 0, -737.83), #plane 7\n",
    "            (536.748, 0, -799.26), #plane 8\n",
    "            (672.528, 0, -835.133), #plane 9\n",
    "            (814.82, 0, -847.56), #plane 10\n",
    "            (977.817, 0, -845.565), #plane 11\n",
    "            (1138.74, 0, -831.448), #plane 12\n",
    "            (1300.874, 0, -802.406), #plane 13\n",
    "            (1458.53, 0, -761.29), #plane 14\n",
    "            (1780.247, 0, -673.92), #plane 15\n",
    "            (2101.965, 0, -586.55), #plane 16\n",
    "            (2423.682, 0, -499.18), #plane 17\n",
    "            (2745.40, 0, -411.81), #plane 18\n",
    "            (3235.68, 0, -274.137), #plane 19\n",
    "            (3560.09, 0, -178.196), #plane 20\n",
    "            (3876.111, 0, -76.161), #plane 21\n",
    "            (4049.151, 0, -25.67), #plane 22\n",
    "            (4137.633, 0, -4.381), #plane 23\n",
    "            (4223.608, 0, 7.547), #plane 24\n",
    "            (4281.578, 0, 12.828), #plane 25\n",
    "            (4375.87, 0, 17.209)] #plane 26"
   ]
  },
  {
   "cell_type": "code",
   "execution_count": null,
   "metadata": {},
   "outputs": [],
   "source": [
    "#| export\n",
    "def gradient_to_spline_angle(m:float # Gradient of the spline in the x-z plane.\n",
    "                             )->float: # Angle of the spline starting from the north direction going anti-clockwise.\n",
    "    \"Function to convert the gradient of the spline in the x-z plane to the angle of the spline starting from the north direction going anti-clockwise.\"\n",
    "    if m == float('inf'):\n",
    "        angle = 0\n",
    "    elif m <= 0:\n",
    "        angle = math.pi / 2 - math.atan(-m)\n",
    "    else:\n",
    "        angle = math.atan(m) + math.pi / 2\n",
    "    return angle"
   ]
  },
  {
   "cell_type": "code",
   "execution_count": null,
   "metadata": {},
   "outputs": [],
   "source": [
    "#| export\n",
    "def get_spline_details()->list: # List containing the spline details.\n",
    "    \"This function gets the spline details and calculates the angle of the spline at the plane in radians and degrees if the columns are not already present.\"\n",
    "    spline_details = []\n",
    "    path = '../data/spline/spline_details.csv'\n",
    "       \n",
    "    with open(Path(path), mode='r') as file:\n",
    "        reader = csv.DictReader(file)\n",
    "        for row in reader:\n",
    "            spline_details.append(row)\n",
    "\n",
    "    for row in spline_details:\n",
    "        if 'angle_rad' not in row:\n",
    "            tangent_grad = float(row['tangent_grad'])\n",
    "            angle_rad = gradient_to_spline_angle(tangent_grad)\n",
    "            row['angle_rad'] = angle_rad\n",
    "            row['angle_deg'] = math.degrees(angle_rad)\n",
    "\n",
    "    return spline_details"
   ]
  },
  {
   "cell_type": "code",
   "execution_count": null,
   "metadata": {},
   "outputs": [],
   "source": [
    "#| export\n",
    "def get_cartesian_coords(centre_coords:tuple, # Tuple containing the centre coordinates.\n",
    "                         phi_rad:list, # List of phi angles in radians.\n",
    "                         polar_radial_distance:list, # List of polar radial distances.\n",
    "                         theta:float, # Angle of the spline at the plane in radians.\n",
    "                         )->list: # List containing the cartesian coordinates.\n",
    "    \"This function converts the local polar coordinates to cartesian coordinates.\"\n",
    "    cartesian_coords = []\n",
    "    for i in range(len(phi_rad)):\n",
    "        x_global = centre_coords[0] + polar_radial_distance[i] * math.cos(phi_rad[i]) * math.cos(theta) * 10\n",
    "        y_global = centre_coords[1] + polar_radial_distance[i] * math.sin(phi_rad[i]) * 10\n",
    "        z_global = centre_coords[2] + polar_radial_distance[i] * math.cos(phi_rad[i]) * math.sin(theta) * 10\n",
    "        cartesian_coords.append((x_global, y_global, z_global))\n",
    "    return cartesian_coords"
   ]
  },
  {
   "cell_type": "code",
   "execution_count": null,
   "metadata": {},
   "outputs": [],
   "source": [
    "#| export\n",
    "def calculate_face_coords(baseline_factor:list, # List containing the baseline factors.\n",
    "                          )->list: # List containing the coordinates of the faces of the tube.\n",
    "    \"This function calculates the coordinates of the faces of the tube using the baseline factors to determine the shape of the face.\"\n",
    "    print('Calculating face coordinates...')\n",
    "    df_spline = get_spline_details()\n",
    "    faces_coordinates = []\n",
    "    for plane in range(1, 27):\n",
    "            phi_rad = []\n",
    "            polar_radial_distance = []\n",
    "            for baseline in range(1,3):\n",
    "                path = f'../data/baseline_{baseline}/plane_{plane}/polar_coordinates.csv'\n",
    "                with open(Path(path), mode='r') as file:\n",
    "                    reader = csv.DictReader(file)\n",
    "                    i = 0\n",
    "                    for row in reader:\n",
    "                        if baseline == 1:\n",
    "                            polar_radial_distance.append(baseline_factor[baseline-1]*float(row['radial_distance']))\n",
    "                            phi_rad.append(float(row['phi_rad']))\n",
    "                        else:\n",
    "                            polar_radial_distance[i] = (polar_radial_distance[i] + baseline_factor[baseline-1]*float(row['radial_distance']))\n",
    "                            i += 1\n",
    "            theta = float(next(row['angle_rad'] for row in df_spline if int(row['plane']) == plane))\n",
    "            cartesian_coords = get_cartesian_coords(centres[plane-1], phi_rad, polar_radial_distance, theta)\n",
    "            faces_coordinates.append(cartesian_coords)\n",
    "    return faces_coordinates"
   ]
  },
  {
   "cell_type": "code",
   "execution_count": null,
   "metadata": {},
   "outputs": [],
   "source": [
    "#| hide\n",
    "import nbdev; nbdev.nbdev_export()"
   ]
  }
 ],
 "metadata": {
  "kernelspec": {
   "display_name": "python3",
   "language": "python",
   "name": "python3"
  }
 },
 "nbformat": 4,
 "nbformat_minor": 4
}
